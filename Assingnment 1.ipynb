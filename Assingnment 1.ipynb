{
 "cells": [
  {
   "cell_type": "code",
   "execution_count": 1,
   "metadata": {},
   "outputs": [
    {
     "name": "stdout",
     "output_type": "stream",
     "text": [
      "Enter the number to display multiplication table\n",
      "5\n",
      "Multiplication table is as follows:\n",
      "5 x 1 = 5\n",
      "5 x 2 = 10\n",
      "5 x 3 = 15\n",
      "5 x 4 = 20\n",
      "5 x 5 = 25\n",
      "5 x 6 = 30\n",
      "5 x 7 = 35\n",
      "5 x 8 = 40\n",
      "5 x 9 = 45\n",
      "5 x 10 = 50\n"
     ]
    }
   ],
   "source": [
    "#1.Write a function that inputs a number and prints the multiplication table of that number\n",
    "#https://www.programiz.com/python-programming/examples/multiplication-table\n",
    "def multiply(num):  #multiply function\n",
    "    print(\"Multiplication table is as follows:\")\n",
    "    for i in range(1, 11):\n",
    "        print(num, 'x', i, '=', num*i)\n",
    "\n",
    "num = int(input(\"Enter the number to display multiplication table\\n\")) # take in put fom the user\n",
    "multiply(num) # calling function\n"
   ]
  },
  {
   "cell_type": "code",
   "execution_count": 4,
   "metadata": {},
   "outputs": [
    {
     "name": "stdout",
     "output_type": "stream",
     "text": [
      "Twin prime numbers are:\n",
      "3 and 5\n",
      "5 and 7\n",
      "11 and 13\n",
      "17 and 19\n",
      "29 and 31\n",
      "41 and 43\n",
      "59 and 61\n",
      "71 and 73\n",
      "101 and 103\n",
      "107 and 109\n",
      "137 and 139\n",
      "149 and 151\n",
      "179 and 181\n",
      "191 and 193\n",
      "197 and 199\n",
      "227 and 229\n",
      "239 and 241\n",
      "269 and 271\n",
      "281 and 283\n",
      "311 and 313\n",
      "347 and 349\n",
      "419 and 421\n",
      "431 and 433\n",
      "461 and 463\n",
      "521 and 523\n",
      "569 and 571\n",
      "599 and 601\n",
      "617 and 619\n",
      "641 and 643\n",
      "659 and 661\n",
      "809 and 811\n",
      "821 and 823\n",
      "827 and 829\n",
      "857 and 859\n",
      "881 and 883\n"
     ]
    }
   ],
   "source": [
    "'''2. Write a program to print twin primes less than 1000. If two consecutive odd numbers are\n",
    "both prime then they are known as twin primes'''\n",
    "#https://www.tutorialspoint.com/How-to-generate-prime-twins-using-Python\n",
    "import math\n",
    "def prime(n):\n",
    "    flag=0\n",
    "    if n==1 or n==2:\n",
    "        flag =1\n",
    "    \n",
    "    for i in range(2,int(math.sqrt(n))+1): #running for loop from 2 till sqrt+1 of the number \n",
    "        if n%i ==0:\n",
    "            flag =1\n",
    "            break\n",
    "    return flag \n",
    "\n",
    "\n",
    "print(\"Twin prime numbers are:\")\n",
    "for i in range(1, 1001):\n",
    "    if prime(i)==0 and prime(i+2)==0:\n",
    "        print(\"{0} and {1}\".format(i, i+2))\n",
    "\n",
    "\n",
    "            \n",
    "\n",
    "        \n",
    "        \n",
    "        "
   ]
  },
  {
   "cell_type": "code",
   "execution_count": 1,
   "metadata": {},
   "outputs": [
    {
     "name": "stdout",
     "output_type": "stream",
     "text": [
      "Enter a number greater than 1 to find prime factor\n",
      "56\n",
      "2\n",
      "2\n",
      "2\n",
      "7\n"
     ]
    }
   ],
   "source": [
    "3#.Write a program to find out the prime factors of a number. Example: prime factors of 56 -\n",
    "#2, 2, 2, 7\n",
    "#https://www.tutorialspoint.com/python-program-for-efficient-program-to-print-all-prime-factors-of-a-given-number\n",
    "import pdb\n",
    "import math\n",
    "def primefactor(num): #function to print prime  number\n",
    "    while num%2 ==0: #for factors of 2\n",
    "        print(2)\n",
    "        num//=2\n",
    "    for i in range(3,num+1, 2):# for factors other than 2 in odd intervals\n",
    "        if num%i==0:\n",
    "            print(i)\n",
    "            num//=i\n",
    "num = int(input(\"Enter a number greater than 1 to find prime factor\\n\")) #prime numbers are greater than 1\n",
    "primefactor(num)"
   ]
  },
  {
   "cell_type": "code",
   "execution_count": 4,
   "metadata": {},
   "outputs": [
    {
     "name": "stdout",
     "output_type": "stream",
     "text": [
      "Enter the value of n: 6\n",
      "Enter the value of r: 4\n",
      "The value of 6C4 is: 15\n",
      "The value of 6P4 is: 360\n"
     ]
    }
   ],
   "source": [
    "'''4. Write a program to implement these formulae of permutations and combinations.\n",
    "Number of permutations of n objects taken r at a time: p(n, r) = n! / (n-r)!. Number of\n",
    "combinations of n objects taken r at a time is: c(n, r) = n! / (r!*(n-r)!) = p(n,r) / r!'''\n",
    "#https://www.geeksforgeeks.org/program-calculate-value-ncr/\n",
    "def npr(n, r): ##function to compute npr\n",
    "    permutation = int(factorial(n)/ factorial(n - r)) #formula of combination\n",
    "    print(\"The value of {0}P{1} is: {2}\".format(n, r, permutation))\n",
    "\n",
    "def ncr(n, r): #function to compute ncr\n",
    "    combination = int(factorial(n)/(factorial(r) * factorial(n - r))) #formula of combination\n",
    "    print(\"The value of {0}C{1} is: {2}\".format(n, r, combination))\n",
    "\n",
    "def factorial(n): #function to compute factorial\n",
    "    factorial = 1\n",
    "    for i in range(2,n+1,1):\n",
    "        factorial = factorial*i;\n",
    "    return factorial\n",
    "\n",
    "n = 5; r= 3\n",
    "n = int(input(\"Enter the value of n: \"))\n",
    "r = int(input(\"Enter the value of r: \"))\n",
    "ncr(n,r) #calling function\n",
    "npr(n,r)\n",
    "\n"
   ]
  },
  {
   "cell_type": "code",
   "execution_count": 5,
   "metadata": {},
   "outputs": [
    {
     "name": "stdout",
     "output_type": "stream",
     "text": [
      "Enter the decimal number100\n",
      "1100100"
     ]
    }
   ],
   "source": [
    "#5.Write a function that converts a decimal number to binary number\n",
    "def decimalToBinary(decimal):\n",
    "    while decimal>=0:\n",
    "        binary.append(decimal%2)\n",
    "        decimal //=2\n",
    "        if decimal==0:\n",
    "            break\n",
    "    return binary\n",
    "\n",
    "decimal = int(input(\"Enter the decimal number\"))\n",
    "binary = []     #create an empty list\n",
    "decimalToBinary(decimal) #calling function\n",
    "binary.reverse()   #reverse the binary list\n",
    "for i in binary: \n",
    "    print (i, end='')"
   ]
  },
  {
   "cell_type": "code",
   "execution_count": 9,
   "metadata": {},
   "outputs": [
    {
     "name": "stdout",
     "output_type": "stream",
     "text": [
      "Enter a number to find cube sum\n",
      "370\n",
      "Cube Sum is: 370\n",
      "Hence Armstrong Number\n"
     ]
    }
   ],
   "source": [
    "'''6.Write a function cubesum() that accepts an integer and returns the sum of the cubes of\n",
    "individual digits of that number. Use this function to make functions PrintArmstrong() and\n",
    "isArmstrong() to print Armstrong numbers and to find whether is an Armstrong number.'''\n",
    "\n",
    "def cubesum(number):  #program to print cubesum\n",
    "    n=0\n",
    "    original_number= number\n",
    "    while original_number!= 0:\n",
    "        original_number//=10\n",
    "        n=n+1\n",
    "    \n",
    "    result = 0            \n",
    "    original_number = number\n",
    "    while original_number!= 0:\n",
    "        remainder = original_number%10\n",
    "        result+= pow(remainder,n)\n",
    "        original_number //= 10\n",
    "    print(\"Cube Sum is:\", result)\n",
    "\n",
    "    if result == number:\n",
    "        print(\"Hence Armstrong Number\")\n",
    "    else:\n",
    "        print(\"Hence Not an armstrong number\")\n",
    "    \n",
    "number = int(input(\"Enter a number to find cube sum\\n\"))\n",
    "cubesum(number)\n"
   ]
  },
  {
   "cell_type": "code",
   "execution_count": 8,
   "metadata": {},
   "outputs": [
    {
     "name": "stdout",
     "output_type": "stream",
     "text": [
      "Enter a number to find the product of digits\n",
      "65\n",
      "Product is: 30\n"
     ]
    }
   ],
   "source": [
    "'''7.Write a function prodDigits() that inputs a number and returns the product of digits of that\n",
    "number'''\n",
    "def prodDigits(num):  #function to print prodDigits()\n",
    "    product =1\n",
    "    while num!=0:\n",
    "        remainder = num%10\n",
    "        product=  remainder*product\n",
    "        num//= 10\n",
    "    return(product)\n",
    "\n",
    "num = int(input(\"Enter a number to find the product of digits\\n\"))\n",
    "product=prodDigits(num)\n",
    "print('Product is:',product)\n"
   ]
  },
  {
   "cell_type": "code",
   "execution_count": 2,
   "metadata": {},
   "outputs": [
    {
     "name": "stdout",
     "output_type": "stream",
     "text": [
      "Enter a number to find multiplicative digital root and persistance\n",
      "68\n",
      "48\n",
      "32\n",
      "6\n",
      "Multiplicative digital root is: 6\n",
      "Persistance is: 3\n"
     ]
    }
   ],
   "source": [
    "'''8.If all digits of a number n are multiplied by each other repeating with the product, the one\n",
    "digit number obtained at last is called the multiplicative digital root of n. The number of\n",
    "times digits need to be multiplied to reach one digit is called the multiplicative\n",
    "persistance of n.\n",
    "Example: 86 -> 48 -> 32 -> 6 (MDR 6, MPersistence 3)\n",
    "341 -> 12->2 (MDR 2, MPersistence 2)\n",
    "Using the function prodDigits() of previous exercise write functions MDR() and\n",
    "MPersistence() that input a number and return its multiplicative digital root and\n",
    "multiplicative persistence respectively'''\n",
    "num = int(input(\"Enter a number to find multiplicative digital root and persistance\\n\"))\n",
    "def prodDigits(num):\n",
    "    product =1\n",
    "    while num!=0:\n",
    "        remainder = num%10\n",
    "        product=  remainder*product\n",
    "        num//= 10\n",
    "    print(product)\n",
    "    return(product)\n",
    "\n",
    "def mdr(num):\n",
    "    count=0\n",
    "    while num> 9: # if number > 9\n",
    "        mdr= prodDigits(num)\n",
    "        num=mdr\n",
    "        count+=1\n",
    "    print(\"Multiplicative digital root is:\",mdr) \n",
    "    print(\"Persistance is:\", count)\n",
    "        \n",
    "if num <=9:   # if number is less than or equal to 9 print\n",
    "    product =1\n",
    "    count =0\n",
    "    print(\"Multiplicative digital root is:\",num)\n",
    "    print(\"Persistance is\",count)\n",
    "else:    \n",
    "    mdr(num)\n",
    "\n"
   ]
  },
  {
   "cell_type": "code",
   "execution_count": 7,
   "metadata": {},
   "outputs": [
    {
     "name": "stdout",
     "output_type": "stream",
     "text": [
      "Enter a number to find the proper divisors\n",
      "36\n",
      "Proper divisors of the number are: 2\n",
      "Proper divisors of the number are: 3\n",
      "Proper divisors of the number are: 4\n",
      "Proper divisors of the number are: 6\n",
      "Proper divisors of the number are: 9\n",
      "Proper divisors of the number are: 12\n",
      "Proper divisors of the number are: 18\n",
      "Sum of proper divisors is: 54\n"
     ]
    }
   ],
   "source": [
    "'''9.Write a function sumPdivisors() that finds the sum of proper divisors of a number. Proper\n",
    "divisors of a number are those numbers by which the number is divisible, except the\n",
    "number itself. For example proper divisors of 36 are 1, 2, 3, 4, 6, 9, 18'''\n",
    "def sumPdivisors(num): #function to print proper divisors\n",
    "    sum=0\n",
    "    for i in range(2, num//2+1):\n",
    "        if num%i ==0:\n",
    "            print('Proper divisors of the number are:',i)\n",
    "            sum+=i\n",
    "    print(\"Sum of proper divisors is:\",sum)\n",
    "    \n",
    "num = int(input(\"Enter a number to find the proper divisors\\n\"))\n",
    "sumPdivisors(num)\n",
    "        "
   ]
  },
  {
   "cell_type": "code",
   "execution_count": 6,
   "metadata": {},
   "outputs": [
    {
     "name": "stdout",
     "output_type": "stream",
     "text": [
      "Enter a lower number to find the perfect number in the range\n",
      "1\n",
      "Enter an upper number to find the perfect number in the range\n",
      "1000\n",
      "List of perfect numbers are: 6\n",
      "List of perfect numbers are: 28\n",
      "List of perfect numbers are: 496\n"
     ]
    }
   ],
   "source": [
    "'''10.A number is called perfect if the sum of proper divisors of that number is equal to the\n",
    "number. For example 28 is perfect number, since 1+2+4+7+14=28. Write a program to\n",
    "print all the perfect numbers in a given range'''\n",
    "\n",
    "num1 = int(input(\"Enter a lower number to find the perfect number in the range\\n\"))\n",
    "num2 = int(input(\"Enter an upper number to find the perfect number in the range\\n\"))\n",
    "\n",
    "for i in range(num1, num2):\n",
    "    sum=0\n",
    "    for j in range(1,i):\n",
    "        if i%j ==0:\n",
    "            sum = sum+j\n",
    "    if(sum==i):\n",
    "        print(\"List of perfect numbers are:\",sum)\n"
   ]
  },
  {
   "cell_type": "code",
   "execution_count": 3,
   "metadata": {},
   "outputs": [
    {
     "name": "stdout",
     "output_type": "stream",
     "text": [
      "enter the value for upper range: 10000\n",
      "the amicable numbers between 2 and 10000:\n",
      "220 284\n",
      "1184 1210\n",
      "2620 2924\n",
      "5020 5564\n",
      "6232 6368\n"
     ]
    }
   ],
   "source": [
    "'''11.Two different numbers are called amicable numbers if the sum of the proper divisors of\n",
    "each is equal to the other number. For example 220 and 284 are amicable numbers.\n",
    "Sum of proper divisors of 220 = 1+2+4+5+10+11+20+22+44+55+110 = 284\n",
    "Sum of proper divisors of 284 = 1+2+4+71+142 = 220\n",
    "Write a function to print pairs of amicable numbers in a range'''\n",
    "#https://stackoverflow.com/questions/51711890/finding-all-pairs-of-amicable-numbers-from-2-to-an-upper-range-incorrect-outpu\n",
    "def propDivisorSum(num):  //function to print proper divisors sum\n",
    "    sum=0\n",
    "    for i in range(1, num//2+1):\n",
    "        if(num%i==0):\n",
    "            sum+=i\n",
    "    return sum\n",
    "\n",
    "def amicable(num):\n",
    "    sum=0\n",
    "    for i in range(num):\n",
    "        sum = propDivisorSum(i)\n",
    "        if i< sum and propDivisorSum(sum)==i:\n",
    "            print(i,sum)\n",
    "\n",
    "\n",
    "num = int(input(\"enter the value for upper range: \"))\n",
    "print(\"the amicable numbers between 2 and {0}:\".format(num))\n",
    "amicable(num)"
   ]
  },
  {
   "cell_type": "code",
   "execution_count": 31,
   "metadata": {},
   "outputs": [
    {
     "name": "stdout",
     "output_type": "stream",
     "text": [
      "[2, 4, 6, 8, 10]\n"
     ]
    }
   ],
   "source": [
    "#12. Write a program which can filter odd numbers in a list by using filter functionlst = [1, 2, 3, 4, 5, 6, 7, 8, 9, 10]\n",
    "lst = [1, 2, 3, 4, 5, 6, 7, 8, 9, 10]\n",
    "even_lst = list(filter(lambda x: (x%2 == 0), lst))\n",
    "print(even_lst)\n"
   ]
  },
  {
   "cell_type": "code",
   "execution_count": 35,
   "metadata": {},
   "outputs": [
    {
     "name": "stdout",
     "output_type": "stream",
     "text": [
      "[1, 8, 27, 64, 125, 216, 343, 512, 729, 1000]\n"
     ]
    }
   ],
   "source": [
    "'''13. Write a program which can map() to make a list whose elements are cube of elements in\n",
    "a given list'''\n",
    "lst = [1, 2, 3, 4, 5, 6, 7, 8, 9 ,10]\n",
    "new_lst = list(map(lambda x: x ** 3, lst))\n",
    "print(new_lst)\n"
   ]
  },
  {
   "cell_type": "code",
   "execution_count": 39,
   "metadata": {},
   "outputs": [
    {
     "name": "stdout",
     "output_type": "stream",
     "text": [
      "[8, 64, 216, 512, 1000]\n"
     ]
    }
   ],
   "source": [
    "'''14. Write a program which can map() and filter() to make a list whose elements are cube of\n",
    "even number in a given list\n",
    "'''\n",
    "lst = [1, 2, 3, 4, 5, 6, 7, 8, 9 ,10]\n",
    "new_lst = list(filter(lambda x: x%2 == 0, lst))\n",
    "new_lst2 = list(map(lambda x: x**3, new_lst))\n",
    "print(new_lst2)"
   ]
  }
 ],
 "metadata": {
  "kernelspec": {
   "display_name": "Python 3",
   "language": "python",
   "name": "python3"
  },
  "language_info": {
   "codemirror_mode": {
    "name": "ipython",
    "version": 3
   },
   "file_extension": ".py",
   "mimetype": "text/x-python",
   "name": "python",
   "nbconvert_exporter": "python",
   "pygments_lexer": "ipython3",
   "version": "3.7.4"
  }
 },
 "nbformat": 4,
 "nbformat_minor": 2
}
